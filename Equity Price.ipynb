{
 "cells": [
  {
   "cell_type": "code",
   "execution_count": 89,
   "metadata": {
    "collapsed": false
   },
   "outputs": [
    {
     "name": "stdout",
     "output_type": "stream",
     "text": [
      "Value Error occured in -f\n"
     ]
    }
   ],
   "source": [
    "# coding: utf-8\n",
    "\n",
    "import sys\n",
    "import datetime\n",
    "import pandas as pd\n",
    "import pandas.io.data as web\n",
    "\n",
    "class JpStock:\n",
    "    def base_url(self):\n",
    "        return ('http://info.finance.yahoo.co.jp/history/'\n",
    "                '?code={0}.T&{1}&{2}&tm={3}&p={4}')\n",
    "\n",
    "    def get(self, code, start=None, end=None, interval='d'):\n",
    "        base = self.base_url()\n",
    "        start, end = web._sanitize_dates(start, end)\n",
    "        start = 'sy={0}&sm={1}&sd={2}'.format(start.year, start.month, start.day)\n",
    "        end = 'ey={0}&em={1}&ed={2}'.format(end.year, end.month, end.day)\n",
    "        p = 1\n",
    "        results = []\n",
    "\n",
    "        if interval not in ['d', 'w', 'm', 'v']:\n",
    "            raise ValueError(\n",
    "                \"Invalid interval: valid values are 'd', 'w', 'm' and 'v'\")\n",
    "\n",
    "        while True:\n",
    "            url = base.format(code, start, end, interval, p)\n",
    "            tables = pd.read_html(url, header=0)\n",
    "            if len(tables) < 2 or len(tables[1]) == 0:\n",
    "                break\n",
    "            results.append(tables[1])\n",
    "            p += 1\n",
    "        result = pd.concat(results, ignore_index=True)\n",
    "\n",
    "        result.columns = [\n",
    "            'Date', 'Open', 'High', 'Low', 'Close', 'Volume', 'Adj Close']\n",
    "        result['Date'] = pd.to_datetime(result['Date'], format='%Y年%m月%d日')\n",
    "        result = result.set_index('Date')\n",
    "        result = result.sort_index()\n",
    "        return result.asfreq('B')\n",
    "\n",
    "\n",
    "if __name__ == '__main__':\n",
    "    argsmin = 2\n",
    "    version = (3, 0)\n",
    "    if sys.version_info > (version):\n",
    "        if len(sys.argv) > argsmin:\n",
    "            try:\n",
    "                stock = sys.argv[1]\n",
    "                start = sys.argv[2]\n",
    "\n",
    "                jpstock = JpStock()\n",
    "                stock_tse = jpstock.get(int(stock), start=start)\n",
    "                stock_tse.to_csv(\"\".join([\"stock_\", stock, \".csv\"]))\n",
    "            except ValueError:\n",
    "                print(\"Value Error occured in\", stock)\n",
    "        else:\n",
    "            print(\"This program needs at least %(argsmin)s arguments\" %\n",
    "                  locals())\n",
    "    else:\n",
    "        print(\"This program requires python > %(version)s\" % locals())"
   ]
  },
  {
   "cell_type": "code",
   "execution_count": 113,
   "metadata": {
    "collapsed": false
   },
   "outputs": [],
   "source": [
    "import jpstock"
   ]
  },
  {
   "cell_type": "code",
   "execution_count": 114,
   "metadata": {
    "collapsed": false
   },
   "outputs": [
    {
     "ename": "SyntaxError",
     "evalue": "invalid syntax (<ipython-input-114-a31508d6f236>, line 1)",
     "output_type": "error",
     "traceback": [
      "\u001b[1;36m  File \u001b[1;32m\"<ipython-input-114-a31508d6f236>\"\u001b[1;36m, line \u001b[1;32m1\u001b[0m\n\u001b[1;33m    jpstock.py 9201 2015-1-1\u001b[0m\n\u001b[1;37m                  ^\u001b[0m\n\u001b[1;31mSyntaxError\u001b[0m\u001b[1;31m:\u001b[0m invalid syntax\n"
     ]
    }
   ],
   "source": [
    "jpstock.py 9201 2015-1-1"
   ]
  },
  {
   "cell_type": "code",
   "execution_count": null,
   "metadata": {
    "collapsed": true
   },
   "outputs": [],
   "source": []
  }
 ],
 "metadata": {
  "kernelspec": {
   "display_name": "Python 3",
   "language": "python",
   "name": "python3"
  },
  "language_info": {
   "codemirror_mode": {
    "name": "ipython",
    "version": 3
   },
   "file_extension": ".py",
   "mimetype": "text/x-python",
   "name": "python",
   "nbconvert_exporter": "python",
   "pygments_lexer": "ipython3",
   "version": "3.5.1"
  }
 },
 "nbformat": 4,
 "nbformat_minor": 0
}
