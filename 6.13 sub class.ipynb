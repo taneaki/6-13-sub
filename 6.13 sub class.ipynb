{
 "cells": [
  {
   "cell_type": "markdown",
   "metadata": {},
   "source": [
    "1. 初期化処理"
   ]
  },
  {
   "cell_type": "code",
   "execution_count": 44,
   "metadata": {
    "collapsed": true
   },
   "outputs": [],
   "source": [
    "from requests_oauthlib import OAuth1Session\n",
    "from requests.exceptions import ConnectionError, ReadTimeout, SSLError\n",
    "import json, datetime, time, pytz, re, sys,traceback, pymongo\n",
    "from pymongo import MongoClient\n",
    "from collections import defaultdict\n",
    "import numpy as np"
   ]
  },
  {
   "cell_type": "code",
   "execution_count": 45,
   "metadata": {
    "collapsed": true
   },
   "outputs": [],
   "source": [
    "#ＡＰＩアカウントのキーを入力\n",
    "KEYS = { \n",
    "        'consumer_key':'hScrpPrZjpRGTuQEIErMvweUS',\n",
    "        'consumer_secret':'rzkSlOi1wVYm3DQjvndMPvHwNKTCGAF1zPaLdL0ShpRGtbBMM4',\n",
    "        'access_token':'353687718-LlR3EWUQIN0iFzWl2tC14d4xXv9CQD0607LJOL1w',\n",
    "        'access_secret':'x16Aj0X6krEm7mDTssDqa6pepM31069ryWShDmgdviuji',\n",
    "       }\n",
    "\n",
    "twitter = None\n",
    "connect = None\n",
    "db      = None\n",
    "tweetdata = None\n",
    "meta    = None"
   ]
  },
  {
   "cell_type": "code",
   "execution_count": 46,
   "metadata": {
    "collapsed": true
   },
   "outputs": [],
   "source": [
    "# twitter接続情報や、mongoDBへの接続処理等initial処理実行\n",
    "def initialize(): \n",
    "    global twitter, twitter, connect, db, tweetdata, meta\n",
    "    twitter = OAuth1Session(KEYS['consumer_key'],KEYS['consumer_secret'],\n",
    "                            KEYS['access_token'],KEYS['access_secret'])\n",
    "    connect = MongoClient('localhost', 27017)\n",
    "    db = connect.starbucks\n",
    "    tweetdata = db.tweetdata\n",
    "    meta = db.metadata\n",
    "\n",
    "initialize()"
   ]
  },
  {
   "cell_type": "code",
   "execution_count": 55,
   "metadata": {
    "collapsed": true
   },
   "outputs": [],
   "source": [
    "# 検索ワードを指定して100件のTweetデータをTwitter REST APIsから取得する\n",
    "def getTweetData(search_word, max_id, since_id):\n",
    "    global twitter\n",
    "    url = 'https://api.twitter.com/1.1/search/tweets.json'\n",
    "    params = {'q': search_word,\n",
    "              'count':'100',\n",
    "    }\n",
    "    # max_idの指定があれば設定する\n",
    "    if max_id != -1:\n",
    "        params['max_id'] = max_id\n",
    "    # since_idの指定があれば設定する\n",
    "    if since_id != -1:\n",
    "        params['since_id'] = since_id\n",
    "        \n",
    "    global req\n",
    "    req = twitter.get(url, params = params)   # Tweetデータの取得\n",
    "    # 取得したデータの分解\n",
    "    if req.status_code == 200: # 成功した場合\n",
    "        timeline = json.loads(req.text)\n",
    "        metadata = timeline['search_metadata']\n",
    "        statuses = timeline['statuses']\n",
    "        limit = req.headers['x-rate-limit-remaining'] if 'x-rate-limit-remaining' in req.headers else 0\n",
    "        reset = req.headers['x-rate-limit-reset'] if 'x-rate-limit-reset' in req.headers else 0              \n",
    "        return {\"result\":True, \"metadata\":metadata, \"statuses\":statuses, \"limit\":limit, \"reset_time\":datetime.datetime.fromtimestamp(float(reset)), \"reset_time_unix\":reset}\n",
    "    else: # 失敗した場合\n",
    "        print (\"Error: %d\" % req.status_code)\n",
    "        return{\"result\":False, \"status_code\":req.status_code}"
   ]
  },
  {
   "cell_type": "code",
   "execution_count": 56,
   "metadata": {
    "collapsed": true
   },
   "outputs": [],
   "source": [
    "# 文字列を日本時間2タイムゾーンを合わせた日付型で返す\n",
    "def str_to_date_jp(str_date):\n",
    "    dts = datetime.datetime.strptime(str_date,'%a %b %d %H:%M:%S +0000 %Y')\n",
    "    return pytz.utc.localize(dts).astimezone(pytz.timezone('Asia/Tokyo'))"
   ]
  },
  {
   "cell_type": "code",
   "execution_count": 57,
   "metadata": {
    "collapsed": true
   },
   "outputs": [],
   "source": [
    "# 現在時刻をUNIX Timeで返す\n",
    "def now_unix_time():\n",
    "    return time.mktime(datetime.datetime.now().timetuple())"
   ]
  },
  {
   "cell_type": "code",
   "execution_count": 58,
   "metadata": {
    "collapsed": false
   },
   "outputs": [
    {
     "name": "stdout",
     "output_type": "stream",
     "text": [
      "1, "
     ]
    },
    {
     "name": "stderr",
     "output_type": "stream",
     "text": [
      "C:\\Users\\Taneaki.Taneaki-PC\\Anaconda3\\lib\\site-packages\\ipykernel\\__main__.py:37: DeprecationWarning: insert is deprecated. Use insert_one or insert_many instead.\n"
     ]
    },
    {
     "ename": "NameError",
     "evalue": "name 'errno' is not defined",
     "output_type": "error",
     "traceback": [
      "\u001b[1;31m---------------------------------------------------------------------------\u001b[0m",
      "\u001b[1;31mServerSelectionTimeoutError\u001b[0m               Traceback (most recent call last)",
      "\u001b[1;32m<ipython-input-58-c0fd73a95d97>\u001b[0m in \u001b[0;36m<module>\u001b[1;34m()\u001b[0m\n\u001b[0;32m     36\u001b[0m                 \u001b[1;31m# 結果をmongoDBに格納する\u001b[0m\u001b[1;33m\u001b[0m\u001b[1;33m\u001b[0m\u001b[0m\n\u001b[1;32m---> 37\u001b[1;33m                 \u001b[0mmeta\u001b[0m\u001b[1;33m.\u001b[0m\u001b[0minsert\u001b[0m\u001b[1;33m(\u001b[0m\u001b[1;33m{\u001b[0m\u001b[1;34m\"metadata\"\u001b[0m\u001b[1;33m:\u001b[0m\u001b[0mres\u001b[0m\u001b[1;33m[\u001b[0m\u001b[1;34m'metadata'\u001b[0m\u001b[1;33m]\u001b[0m\u001b[1;33m,\u001b[0m \u001b[1;34m\"insert_date\"\u001b[0m\u001b[1;33m:\u001b[0m \u001b[0mnow_unix_time\u001b[0m\u001b[1;33m(\u001b[0m\u001b[1;33m)\u001b[0m\u001b[1;33m}\u001b[0m\u001b[1;33m)\u001b[0m\u001b[1;33m\u001b[0m\u001b[0m\n\u001b[0m\u001b[0;32m     38\u001b[0m                 \u001b[1;32mfor\u001b[0m \u001b[0ms\u001b[0m \u001b[1;32min\u001b[0m \u001b[0mres\u001b[0m\u001b[1;33m[\u001b[0m\u001b[1;34m'statuses'\u001b[0m\u001b[1;33m]\u001b[0m\u001b[1;33m:\u001b[0m\u001b[1;33m\u001b[0m\u001b[0m\n",
      "\u001b[1;32mC:\\Users\\Taneaki.Taneaki-PC\\Anaconda3\\lib\\site-packages\\pymongo\\collection.py\u001b[0m in \u001b[0;36minsert\u001b[1;34m(self, doc_or_docs, manipulate, check_keys, continue_on_error, **kwargs)\u001b[0m\n\u001b[0;32m   2202\u001b[0m             \u001b[0mwrite_concern\u001b[0m \u001b[1;33m=\u001b[0m \u001b[0mWriteConcern\u001b[0m\u001b[1;33m(\u001b[0m\u001b[1;33m**\u001b[0m\u001b[0mkwargs\u001b[0m\u001b[1;33m)\u001b[0m\u001b[1;33m\u001b[0m\u001b[0m\n\u001b[1;32m-> 2203\u001b[1;33m         \u001b[1;32mwith\u001b[0m \u001b[0mself\u001b[0m\u001b[1;33m.\u001b[0m\u001b[0m_socket_for_writes\u001b[0m\u001b[1;33m(\u001b[0m\u001b[1;33m)\u001b[0m \u001b[1;32mas\u001b[0m \u001b[0msock_info\u001b[0m\u001b[1;33m:\u001b[0m\u001b[1;33m\u001b[0m\u001b[0m\n\u001b[0m\u001b[0;32m   2204\u001b[0m             return self._insert(sock_info, doc_or_docs, not continue_on_error,\n",
      "\u001b[1;32mC:\\Users\\Taneaki.Taneaki-PC\\Anaconda3\\lib\\contextlib.py\u001b[0m in \u001b[0;36m__enter__\u001b[1;34m(self)\u001b[0m\n\u001b[0;32m     58\u001b[0m         \u001b[1;32mtry\u001b[0m\u001b[1;33m:\u001b[0m\u001b[1;33m\u001b[0m\u001b[0m\n\u001b[1;32m---> 59\u001b[1;33m             \u001b[1;32mreturn\u001b[0m \u001b[0mnext\u001b[0m\u001b[1;33m(\u001b[0m\u001b[0mself\u001b[0m\u001b[1;33m.\u001b[0m\u001b[0mgen\u001b[0m\u001b[1;33m)\u001b[0m\u001b[1;33m\u001b[0m\u001b[0m\n\u001b[0m\u001b[0;32m     60\u001b[0m         \u001b[1;32mexcept\u001b[0m \u001b[0mStopIteration\u001b[0m\u001b[1;33m:\u001b[0m\u001b[1;33m\u001b[0m\u001b[0m\n",
      "\u001b[1;32mC:\\Users\\Taneaki.Taneaki-PC\\Anaconda3\\lib\\site-packages\\pymongo\\mongo_client.py\u001b[0m in \u001b[0;36m_get_socket\u001b[1;34m(self, selector)\u001b[0m\n\u001b[0;32m    715\u001b[0m     \u001b[1;32mdef\u001b[0m \u001b[0m_get_socket\u001b[0m\u001b[1;33m(\u001b[0m\u001b[0mself\u001b[0m\u001b[1;33m,\u001b[0m \u001b[0mselector\u001b[0m\u001b[1;33m)\u001b[0m\u001b[1;33m:\u001b[0m\u001b[1;33m\u001b[0m\u001b[0m\n\u001b[1;32m--> 716\u001b[1;33m         \u001b[0mserver\u001b[0m \u001b[1;33m=\u001b[0m \u001b[0mself\u001b[0m\u001b[1;33m.\u001b[0m\u001b[0m_get_topology\u001b[0m\u001b[1;33m(\u001b[0m\u001b[1;33m)\u001b[0m\u001b[1;33m.\u001b[0m\u001b[0mselect_server\u001b[0m\u001b[1;33m(\u001b[0m\u001b[0mselector\u001b[0m\u001b[1;33m)\u001b[0m\u001b[1;33m\u001b[0m\u001b[0m\n\u001b[0m\u001b[0;32m    717\u001b[0m         \u001b[1;32mtry\u001b[0m\u001b[1;33m:\u001b[0m\u001b[1;33m\u001b[0m\u001b[0m\n",
      "\u001b[1;32mC:\\Users\\Taneaki.Taneaki-PC\\Anaconda3\\lib\\site-packages\\pymongo\\topology.py\u001b[0m in \u001b[0;36mselect_server\u001b[1;34m(self, selector, server_selection_timeout, address)\u001b[0m\n\u001b[0;32m    141\u001b[0m                                                  \u001b[0mserver_selection_timeout\u001b[0m\u001b[1;33m,\u001b[0m\u001b[1;33m\u001b[0m\u001b[0m\n\u001b[1;32m--> 142\u001b[1;33m                                                  address))\n\u001b[0m\u001b[0;32m    143\u001b[0m \u001b[1;33m\u001b[0m\u001b[0m\n",
      "\u001b[1;32mC:\\Users\\Taneaki.Taneaki-PC\\Anaconda3\\lib\\site-packages\\pymongo\\topology.py\u001b[0m in \u001b[0;36mselect_servers\u001b[1;34m(self, selector, server_selection_timeout, address)\u001b[0m\n\u001b[0;32m    117\u001b[0m                     raise ServerSelectionTimeoutError(\n\u001b[1;32m--> 118\u001b[1;33m                         self._error_message(selector))\n\u001b[0m\u001b[0;32m    119\u001b[0m \u001b[1;33m\u001b[0m\u001b[0m\n",
      "\u001b[1;31mServerSelectionTimeoutError\u001b[0m: localhost:27017: [WinError 10061] 対象のコンピューターによって拒否されたため、接続できませんでした。",
      "\nDuring handling of the above exception, another exception occurred:\n",
      "\u001b[1;31mNameError\u001b[0m                                 Traceback (most recent call last)",
      "\u001b[1;32m<ipython-input-58-c0fd73a95d97>\u001b[0m in \u001b[0;36m<module>\u001b[1;34m()\u001b[0m\n\u001b[0;32m     48\u001b[0m                 \u001b[1;32mbreak\u001b[0m\u001b[1;33m\u001b[0m\u001b[0m\n\u001b[0;32m     49\u001b[0m \u001b[1;33m\u001b[0m\u001b[0m\n\u001b[1;32m---> 50\u001b[1;33m     \u001b[1;32mexcept\u001b[0m \u001b[0mSSLError\u001b[0m \u001b[1;33m==\u001b[0m \u001b[1;33m(\u001b[0m\u001b[0merrno\u001b[0m\u001b[1;33m,\u001b[0m \u001b[0mrequest\u001b[0m\u001b[1;33m)\u001b[0m\u001b[1;33m:\u001b[0m\u001b[1;33m\u001b[0m\u001b[0m\n\u001b[0m\u001b[0;32m     51\u001b[0m         \u001b[0mprint\u001b[0m \u001b[1;33m(\u001b[0m\u001b[1;34m\"SSLError({0}): {1}\"\u001b[0m\u001b[1;33m.\u001b[0m\u001b[0mformat\u001b[0m\u001b[1;33m(\u001b[0m\u001b[0merrno\u001b[0m\u001b[1;33m,\u001b[0m \u001b[0mstrerror\u001b[0m\u001b[1;33m)\u001b[0m\u001b[1;33m)\u001b[0m\u001b[1;33m\u001b[0m\u001b[0m\n\u001b[0;32m     52\u001b[0m         \u001b[0mprint\u001b[0m \u001b[1;33m(\u001b[0m\u001b[1;34m\"waiting 5mins\"\u001b[0m\u001b[1;33m)\u001b[0m\u001b[1;33m\u001b[0m\u001b[0m\n",
      "\u001b[1;31mNameError\u001b[0m: name 'errno' is not defined"
     ]
    }
   ],
   "source": [
    "#-------------繰り返しTweetデータを取得する-------------#\n",
    "sid=-1\n",
    "mid = -1 \n",
    "count = 0\n",
    "\n",
    "res = None\n",
    "while(True):    \n",
    "    try:\n",
    "        count = count + 1\n",
    "        sys.stdout.write(\"%d, \"% count)\n",
    "        res = getTweetData(u'スタバ', max_id=mid, since_id=sid)\n",
    "        if res['result']==False:\n",
    "            # 失敗したら終了する\n",
    "            print (\"status_code\", res['status_code'])\n",
    "            break\n",
    "\n",
    "        if int(res['limit']) == 0:    # 回数制限に達したので休憩\n",
    "            # 日付型の列'created_datetime'を付加する\n",
    "            print (\"Adding created_at field.\")\n",
    "            for d in tweetdata.find({'created_datetime':{ \"$exists\": False }},{'_id':1, 'created_at':1}):\n",
    "                #print str_to_date_jp(d['created_at'])\n",
    "                tweetdata.update({'_id' : d['_id']}, \n",
    "                     {'$set' : {'created_datetime' : str_to_date_jp(d['created_at'])}})\n",
    "            #remove_duplicates()\n",
    "\n",
    "            # 待ち時間の計算. リミット＋５秒後に再開する\n",
    "            diff_sec = int(res['reset_time_unix']) - now_unix_time()\n",
    "            print (\"sleep %d sec.\" % (diff_sec+5))\n",
    "            if diff_sec > 0:\n",
    "                time.sleep(diff_sec + 5)\n",
    "        else:\n",
    "            # metadata処理\n",
    "            if len(res['statuses'])==0:\n",
    "                sys.stdout.write(\"statuses is none. \")\n",
    "            elif 'next_results' in res['metadata']:\n",
    "                # 結果をmongoDBに格納する\n",
    "                meta.insert({\"metadata\":res['metadata'], \"insert_date\": now_unix_time()})\n",
    "                for s in res['statuses']:\n",
    "                    tweetdata.insert(s)\n",
    "                next_url = res['metadata']['next_results']\n",
    "                pattern = r\".*max_id=([0-9]*)\\&.*\"\n",
    "                ite = re.finditer(pattern, next_url)\n",
    "                for i in ite:\n",
    "                    mid = i.group(1)\n",
    "                    break\n",
    "            else:\n",
    "                sys.stdout.write(\"next is none. finished.\")\n",
    "                break\n",
    "          \n",
    "    except SSLError == (errno, request):\n",
    "        print (\"SSLError({0}): {1}\".format(errno, strerror))\n",
    "        print (\"waiting 5mins\")\n",
    "        time.sleep(5*60)\n",
    "\n",
    "    except ConnectionError == (errno, request):\n",
    "        print (\"ConnectionError({0}): {1}\".format(errno, strerror))\n",
    "        print (\"waiting 5mins\")\n",
    "        time.sleep(5*60)\n",
    "    \n",
    "    except ReadTimeout == (errno, request):\n",
    "        print (\"ReadTimeout({0}): {1}\".format(errno, strerror))\n",
    "        print (\"waiting 5mins\")\n",
    "        time.sleep(5*60)\n",
    "    \n",
    "    except:\n",
    "        print (\"Unexpected error:\", sys.exc_info()[0])\n",
    "        traceback.format_exc(sys.exc_info()[2])\n",
    "        raise\n",
    "    \n",
    "    finally:\n",
    "        info = sys.exc_info()"
   ]
  },
  {
   "cell_type": "code",
   "execution_count": null,
   "metadata": {
    "collapsed": true
   },
   "outputs": [],
   "source": []
  }
 ],
 "metadata": {
  "kernelspec": {
   "display_name": "Python 3",
   "language": "python",
   "name": "python3"
  },
  "language_info": {
   "codemirror_mode": {
    "name": "ipython",
    "version": 3
   },
   "file_extension": ".py",
   "mimetype": "text/x-python",
   "name": "python",
   "nbconvert_exporter": "python",
   "pygments_lexer": "ipython3",
   "version": "3.5.1"
  }
 },
 "nbformat": 4,
 "nbformat_minor": 0
}
